{
 "cells": [
  {
   "cell_type": "markdown",
   "id": "dbaf3a57",
   "metadata": {},
   "source": [
    "## Importing Necessary Libraries and Dataset"
   ]
  },
  {
   "cell_type": "code",
   "execution_count": 1,
   "id": "852606ce",
   "metadata": {},
   "outputs": [],
   "source": [
    "import pandas as pd\n",
    "import numpy as np\n",
    "from sklearn.datasets import load_diabetes\n",
    "from sklearn.model_selection import train_test_split\n",
    "from sklearn.linear_model import LinearRegression\n",
    "from sklearn.tree import DecisionTreeRegressor\n",
    "from sklearn.ensemble import RandomForestRegressor,AdaBoostRegressor,GradientBoostingRegressor\n",
    "from sklearn.metrics import r2_score,mean_squared_error\n",
    "from warnings import filterwarnings"
   ]
  },
  {
   "cell_type": "markdown",
   "id": "1c2b527e",
   "metadata": {},
   "source": [
    "## Data Preprocessing/Preparation\n"
   ]
  },
  {
   "cell_type": "code",
   "execution_count": 2,
   "id": "771d24e8",
   "metadata": {},
   "outputs": [
    {
     "data": {
      "text/plain": [
       "{'data': array([[ 0.03807591,  0.05068012,  0.06169621, ..., -0.00259226,\n",
       "          0.01990842, -0.01764613],\n",
       "        [-0.00188202, -0.04464164, -0.05147406, ..., -0.03949338,\n",
       "         -0.06832974, -0.09220405],\n",
       "        [ 0.08529891,  0.05068012,  0.04445121, ..., -0.00259226,\n",
       "          0.00286377, -0.02593034],\n",
       "        ...,\n",
       "        [ 0.04170844,  0.05068012, -0.01590626, ..., -0.01107952,\n",
       "         -0.04687948,  0.01549073],\n",
       "        [-0.04547248, -0.04464164,  0.03906215, ...,  0.02655962,\n",
       "          0.04452837, -0.02593034],\n",
       "        [-0.04547248, -0.04464164, -0.0730303 , ..., -0.03949338,\n",
       "         -0.00421986,  0.00306441]]),\n",
       " 'target': array([151.,  75., 141., 206., 135.,  97., 138.,  63., 110., 310., 101.,\n",
       "         69., 179., 185., 118., 171., 166., 144.,  97., 168.,  68.,  49.,\n",
       "         68., 245., 184., 202., 137.,  85., 131., 283., 129.,  59., 341.,\n",
       "         87.,  65., 102., 265., 276., 252.,  90., 100.,  55.,  61.,  92.,\n",
       "        259.,  53., 190., 142.,  75., 142., 155., 225.,  59., 104., 182.,\n",
       "        128.,  52.,  37., 170., 170.,  61., 144.,  52., 128.,  71., 163.,\n",
       "        150.,  97., 160., 178.,  48., 270., 202., 111.,  85.,  42., 170.,\n",
       "        200., 252., 113., 143.,  51.,  52., 210.,  65., 141.,  55., 134.,\n",
       "         42., 111.,  98., 164.,  48.,  96.,  90., 162., 150., 279.,  92.,\n",
       "         83., 128., 102., 302., 198.,  95.,  53., 134., 144., 232.,  81.,\n",
       "        104.,  59., 246., 297., 258., 229., 275., 281., 179., 200., 200.,\n",
       "        173., 180.,  84., 121., 161.,  99., 109., 115., 268., 274., 158.,\n",
       "        107.,  83., 103., 272.,  85., 280., 336., 281., 118., 317., 235.,\n",
       "         60., 174., 259., 178., 128.,  96., 126., 288.,  88., 292.,  71.,\n",
       "        197., 186.,  25.,  84.,  96., 195.,  53., 217., 172., 131., 214.,\n",
       "         59.,  70., 220., 268., 152.,  47.,  74., 295., 101., 151., 127.,\n",
       "        237., 225.,  81., 151., 107.,  64., 138., 185., 265., 101., 137.,\n",
       "        143., 141.,  79., 292., 178.,  91., 116.,  86., 122.,  72., 129.,\n",
       "        142.,  90., 158.,  39., 196., 222., 277.,  99., 196., 202., 155.,\n",
       "         77., 191.,  70.,  73.,  49.,  65., 263., 248., 296., 214., 185.,\n",
       "         78.,  93., 252., 150.,  77., 208.,  77., 108., 160.,  53., 220.,\n",
       "        154., 259.,  90., 246., 124.,  67.,  72., 257., 262., 275., 177.,\n",
       "         71.,  47., 187., 125.,  78.,  51., 258., 215., 303., 243.,  91.,\n",
       "        150., 310., 153., 346.,  63.,  89.,  50.,  39., 103., 308., 116.,\n",
       "        145.,  74.,  45., 115., 264.,  87., 202., 127., 182., 241.,  66.,\n",
       "         94., 283.,  64., 102., 200., 265.,  94., 230., 181., 156., 233.,\n",
       "         60., 219.,  80.,  68., 332., 248.,  84., 200.,  55.,  85.,  89.,\n",
       "         31., 129.,  83., 275.,  65., 198., 236., 253., 124.,  44., 172.,\n",
       "        114., 142., 109., 180., 144., 163., 147.,  97., 220., 190., 109.,\n",
       "        191., 122., 230., 242., 248., 249., 192., 131., 237.,  78., 135.,\n",
       "        244., 199., 270., 164.,  72.,  96., 306.,  91., 214.,  95., 216.,\n",
       "        263., 178., 113., 200., 139., 139.,  88., 148.,  88., 243.,  71.,\n",
       "         77., 109., 272.,  60.,  54., 221.,  90., 311., 281., 182., 321.,\n",
       "         58., 262., 206., 233., 242., 123., 167.,  63., 197.,  71., 168.,\n",
       "        140., 217., 121., 235., 245.,  40.,  52., 104., 132.,  88.,  69.,\n",
       "        219.,  72., 201., 110.,  51., 277.,  63., 118.,  69., 273., 258.,\n",
       "         43., 198., 242., 232., 175.,  93., 168., 275., 293., 281.,  72.,\n",
       "        140., 189., 181., 209., 136., 261., 113., 131., 174., 257.,  55.,\n",
       "         84.,  42., 146., 212., 233.,  91., 111., 152., 120.,  67., 310.,\n",
       "         94., 183.,  66., 173.,  72.,  49.,  64.,  48., 178., 104., 132.,\n",
       "        220.,  57.]),\n",
       " 'frame': None,\n",
       " 'DESCR': '.. _diabetes_dataset:\\n\\nDiabetes dataset\\n----------------\\n\\nTen baseline variables, age, sex, body mass index, average blood\\npressure, and six blood serum measurements were obtained for each of n =\\n442 diabetes patients, as well as the response of interest, a\\nquantitative measure of disease progression one year after baseline.\\n\\n**Data Set Characteristics:**\\n\\n  :Number of Instances: 442\\n\\n  :Number of Attributes: First 10 columns are numeric predictive values\\n\\n  :Target: Column 11 is a quantitative measure of disease progression one year after baseline\\n\\n  :Attribute Information:\\n      - age     age in years\\n      - sex\\n      - bmi     body mass index\\n      - bp      average blood pressure\\n      - s1      tc, T-Cells (a type of white blood cells)\\n      - s2      ldl, low-density lipoproteins\\n      - s3      hdl, high-density lipoproteins\\n      - s4      tch, thyroid stimulating hormone\\n      - s5      ltg, lamotrigine\\n      - s6      glu, blood sugar level\\n\\nNote: Each of these 10 feature variables have been mean centered and scaled by the standard deviation times `n_samples` (i.e. the sum of squares of each column totals 1).\\n\\nSource URL:\\nhttps://www4.stat.ncsu.edu/~boos/var.select/diabetes.html\\n\\nFor more information see:\\nBradley Efron, Trevor Hastie, Iain Johnstone and Robert Tibshirani (2004) \"Least Angle Regression,\" Annals of Statistics (with discussion), 407-499.\\n(https://web.stanford.edu/~hastie/Papers/LARS/LeastAngle_2002.pdf)',\n",
       " 'feature_names': ['age',\n",
       "  'sex',\n",
       "  'bmi',\n",
       "  'bp',\n",
       "  's1',\n",
       "  's2',\n",
       "  's3',\n",
       "  's4',\n",
       "  's5',\n",
       "  's6'],\n",
       " 'data_filename': 'C:\\\\Users\\\\smbas\\\\anaconda3\\\\lib\\\\site-packages\\\\sklearn\\\\datasets\\\\data\\\\diabetes_data.csv.gz',\n",
       " 'target_filename': 'C:\\\\Users\\\\smbas\\\\anaconda3\\\\lib\\\\site-packages\\\\sklearn\\\\datasets\\\\data\\\\diabetes_target.csv.gz'}"
      ]
     },
     "execution_count": 2,
     "metadata": {},
     "output_type": "execute_result"
    }
   ],
   "source": [
    "load_diabetes()"
   ]
  },
  {
   "cell_type": "code",
   "execution_count": 3,
   "id": "e3652247",
   "metadata": {},
   "outputs": [],
   "source": [
    "X=load_diabetes().data\n",
    "y=load_diabetes().target"
   ]
  },
  {
   "cell_type": "code",
   "execution_count": 4,
   "id": "e0ca2008",
   "metadata": {},
   "outputs": [],
   "source": [
    "X_train,X_test,y_train,y_test=train_test_split(X,y,test_size=0.20,random_state=12)"
   ]
  },
  {
   "cell_type": "code",
   "execution_count": 5,
   "id": "8569ddba",
   "metadata": {},
   "outputs": [
    {
     "data": {
      "text/plain": [
       "((353, 10), (89, 10), (353,), (89,))"
      ]
     },
     "execution_count": 5,
     "metadata": {},
     "output_type": "execute_result"
    }
   ],
   "source": [
    "X_train.shape,X_test.shape,y_train.shape,y_test.shape"
   ]
  },
  {
   "cell_type": "markdown",
   "id": "c9056f63",
   "metadata": {},
   "source": [
    "## Model Building\n"
   ]
  },
  {
   "cell_type": "code",
   "execution_count": 6,
   "id": "6587c127",
   "metadata": {},
   "outputs": [
    {
     "data": {
      "text/plain": [
       "GradientBoostingRegressor()"
      ]
     },
     "execution_count": 6,
     "metadata": {},
     "output_type": "execute_result"
    }
   ],
   "source": [
    "#Lineat Regression\n",
    "lr_model=LinearRegression()\n",
    "lr_model.fit(X_train,y_train)\n",
    "\n",
    "#Decision Tree\n",
    "dt_model=DecisionTreeRegressor(criterion='mae', max_depth= 3, min_samples_split= 3)\n",
    "dt_model.fit(X_train,y_train)\n",
    "\n",
    "#Ada Boosting\n",
    "ab_model=AdaBoostRegressor()\n",
    "ab_model.fit(X_train,y_train)\n",
    "\n",
    "#Gradient Boosting\n",
    "gb_model=GradientBoostingRegressor()\n",
    "gb_model.fit(X_train,y_train)"
   ]
  },
  {
   "cell_type": "markdown",
   "id": "dae5cd2e",
   "metadata": {},
   "source": [
    "## Hyperparameter Tweaking With GridSearch CV"
   ]
  },
  {
   "cell_type": "code",
   "execution_count": 7,
   "id": "860cd43b",
   "metadata": {},
   "outputs": [
    {
     "name": "stdout",
     "output_type": "stream",
     "text": [
      "{'criterion': 'mae', 'max_depth': 3, 'min_samples_split': 2}\n",
      "0.33173853473620724\n"
     ]
    }
   ],
   "source": [
    "#Decision Tree\n",
    "from sklearn.model_selection import GridSearchCV\n",
    "grid_model_dt=GridSearchCV(estimator=dt_model,param_grid={'criterion':[\"mse\", \"friedman_mse\", \"mae\", \"poisson\"],\n",
    "                                            'max_depth':[3,5,7,8,10],\n",
    "                                            'min_samples_split':[2,3,4]})\n",
    "grid_model_dt.fit(X_train,y_train)\n",
    "print(grid_model_dt.best_params_)\n",
    "print(grid_model_dt.best_score_)"
   ]
  },
  {
   "cell_type": "markdown",
   "id": "c22af54b",
   "metadata": {},
   "source": [
    "## Model Testing"
   ]
  },
  {
   "cell_type": "markdown",
   "id": "f1fe381c",
   "metadata": {},
   "source": [
    "##### Testing for Train Data\n"
   ]
  },
  {
   "cell_type": "code",
   "execution_count": 8,
   "id": "0f1ee837",
   "metadata": {},
   "outputs": [],
   "source": [
    "y_pred_train_lr=lr_model.predict(X_train)\n",
    "y_pred_train_dt=dt_model.predict(X_train)\n",
    "y_pred_train_ab=ab_model.predict(X_train)\n",
    "y_pred_train_gb=gb_model.predict(X_train)"
   ]
  },
  {
   "cell_type": "markdown",
   "id": "4b79e823",
   "metadata": {},
   "source": [
    "##### Testing for Test Data"
   ]
  },
  {
   "cell_type": "code",
   "execution_count": 9,
   "id": "9696858d",
   "metadata": {},
   "outputs": [],
   "source": [
    "y_pred_test_lr=lr_model.predict(X_test)\n",
    "y_pred_test_dt=dt_model.predict(X_test)\n",
    "y_pred_test_ab=ab_model.predict(X_test)\n",
    "y_pred_test_gb=gb_model.predict(X_test)"
   ]
  },
  {
   "cell_type": "markdown",
   "id": "0c1f6e8d",
   "metadata": {},
   "source": [
    "## Model Evaluation"
   ]
  },
  {
   "cell_type": "markdown",
   "id": "dc49783e",
   "metadata": {},
   "source": [
    "##### Training Data Prediction Evaluation"
   ]
  },
  {
   "cell_type": "code",
   "execution_count": 10,
   "id": "6e4699ce",
   "metadata": {},
   "outputs": [
    {
     "name": "stdout",
     "output_type": "stream",
     "text": [
      "For Linear Regression Model The MSE=2810.495571122642 and R2 Score=0.5424703261420212.\n",
      "For Decision Tree Model The MSE=3111.0679886685552 and R2 Score=0.49353916909502626.\n",
      "For Ada Boosting Model The MSE=2159.3948409635186 and R2 Score=0.6484651221414334.\n",
      "For Gradient Boosting Model The MSE=890.4567772790881 and R2 Score=0.8550396581018666.\n"
     ]
    }
   ],
   "source": [
    "mse=mean_squared_error(y_train,y_pred_train_lr)\n",
    "r2=r2_score(y_train,y_pred_train_lr)\n",
    "print(\"For Linear Regression Model The MSE={} and R2 Score={}.\".format(mse,r2))\n",
    "\n",
    "mse=mean_squared_error(y_train,y_pred_train_dt)\n",
    "r2=r2_score(y_train,y_pred_train_dt)\n",
    "print(\"For Decision Tree Model The MSE={} and R2 Score={}.\".format(mse,r2))\n",
    "\n",
    "mse=mean_squared_error(y_train,y_pred_train_ab)\n",
    "r2=r2_score(y_train,y_pred_train_ab)\n",
    "print(\"For Ada Boosting Model The MSE={} and R2 Score={}.\".format(mse,r2))\n",
    "\n",
    "mse=mean_squared_error(y_train,y_pred_train_gb)\n",
    "r2=r2_score(y_train,y_pred_train_gb)\n",
    "print(\"For Gradient Boosting Model The MSE={} and R2 Score={}.\".format(mse,r2))"
   ]
  },
  {
   "cell_type": "markdown",
   "id": "7dc2d5e5",
   "metadata": {},
   "source": [
    "##### Testing Data Prediciton Evaluation"
   ]
  },
  {
   "cell_type": "code",
   "execution_count": 11,
   "id": "5b9af9ed",
   "metadata": {},
   "outputs": [
    {
     "name": "stdout",
     "output_type": "stream",
     "text": [
      "For Linear Regression Model The MSE=3108.240119411571 and R2 Score=0.38526246112295304.\n",
      "For Decision Tree Model The MSE=3713.0337078651687 and R2 Score=0.2656483683208285.\n",
      "For Ada Boosting The MSE=3451.0753585156335 and R2 Score=0.31745763169199714.\n",
      "For Gradient Boosting Model The MSE=3108.240119411571 and R2 Score=0.38526246112295304.\n"
     ]
    }
   ],
   "source": [
    "mse=mean_squared_error(y_test,y_pred_test_lr)\n",
    "r2=r2_score(y_test,y_pred_test_lr)\n",
    "print(\"For Linear Regression Model The MSE={} and R2 Score={}.\".format(mse,r2))\n",
    "\n",
    "mse=mean_squared_error(y_test,y_pred_test_dt)\n",
    "r2=r2_score(y_test,y_pred_test_dt)\n",
    "print(\"For Decision Tree Model The MSE={} and R2 Score={}.\".format(mse,r2))\n",
    "\n",
    "mse=mean_squared_error(y_test,y_pred_test_ab)\n",
    "r2=r2_score(y_test,y_pred_test_ab)\n",
    "print(\"For Ada Boosting The MSE={} and R2 Score={}.\".format(mse,r2))\n",
    "\n",
    "mse=mean_squared_error(y_test,y_pred_test_lr)\n",
    "r2=r2_score(y_test,y_pred_test_lr)\n",
    "print(\"For Gradient Boosting Model The MSE={} and R2 Score={}.\".format(mse,r2))"
   ]
  },
  {
   "cell_type": "markdown",
   "id": "dd368add",
   "metadata": {},
   "source": [
    "## Checking Processing Speed\n"
   ]
  },
  {
   "cell_type": "code",
   "execution_count": 12,
   "id": "ff65bec5",
   "metadata": {},
   "outputs": [
    {
     "data": {
      "text/plain": [
       "((442, 10), (442,))"
      ]
     },
     "execution_count": 12,
     "metadata": {},
     "output_type": "execute_result"
    }
   ],
   "source": [
    "X.shape,y.shape"
   ]
  },
  {
   "cell_type": "code",
   "execution_count": 13,
   "id": "5da842f0",
   "metadata": {},
   "outputs": [
    {
     "name": "stdout",
     "output_type": "stream",
     "text": [
      "Wall time: 42 ms\n"
     ]
    },
    {
     "data": {
      "text/plain": [
       "AdaBoostRegressor()"
      ]
     },
     "execution_count": 13,
     "metadata": {},
     "output_type": "execute_result"
    }
   ],
   "source": [
    "%%time\n",
    "ab_model.fit(X_train,y_train)"
   ]
  },
  {
   "cell_type": "code",
   "execution_count": 14,
   "id": "b7de7a96",
   "metadata": {},
   "outputs": [
    {
     "name": "stdout",
     "output_type": "stream",
     "text": [
      "Wall time: 53.9 ms\n"
     ]
    },
    {
     "data": {
      "text/plain": [
       "GradientBoostingRegressor()"
      ]
     },
     "execution_count": 14,
     "metadata": {},
     "output_type": "execute_result"
    }
   ],
   "source": [
    "%%time\n",
    "gb_model.fit(X_train,y_train)"
   ]
  },
  {
   "cell_type": "code",
   "execution_count": 15,
   "id": "60a16d72",
   "metadata": {},
   "outputs": [],
   "source": [
    "X=np.repeat(X,repeats=300,axis=0)\n",
    "y=np.repeat(y,repeats=300,axis=0)"
   ]
  },
  {
   "cell_type": "code",
   "execution_count": 16,
   "id": "3d824fc9",
   "metadata": {},
   "outputs": [
    {
     "data": {
      "text/plain": [
       "((132600, 10), (132600,))"
      ]
     },
     "execution_count": 16,
     "metadata": {},
     "output_type": "execute_result"
    }
   ],
   "source": [
    "X.shape,y.shape"
   ]
  },
  {
   "cell_type": "code",
   "execution_count": 17,
   "id": "1ffb96e2",
   "metadata": {},
   "outputs": [],
   "source": [
    "X_train,X_test,y_train,y_test=train_test_split(X,y,test_size=0.20,random_state=12)"
   ]
  },
  {
   "cell_type": "code",
   "execution_count": 18,
   "id": "d999e5de",
   "metadata": {},
   "outputs": [
    {
     "data": {
      "text/plain": [
       "GradientBoostingRegressor()"
      ]
     },
     "execution_count": 18,
     "metadata": {},
     "output_type": "execute_result"
    }
   ],
   "source": [
    "#Ada Boosting\n",
    "ab_model=AdaBoostRegressor()\n",
    "ab_model.fit(X_train,y_train)\n",
    "\n",
    "#Gradient Boosting\n",
    "gb_model=GradientBoostingRegressor()\n",
    "gb_model.fit(X_train,y_train)"
   ]
  },
  {
   "cell_type": "code",
   "execution_count": 19,
   "id": "51ca8948",
   "metadata": {},
   "outputs": [
    {
     "name": "stdout",
     "output_type": "stream",
     "text": [
      "Wall time: 1.58 s\n"
     ]
    },
    {
     "data": {
      "text/plain": [
       "AdaBoostRegressor()"
      ]
     },
     "execution_count": 19,
     "metadata": {},
     "output_type": "execute_result"
    }
   ],
   "source": [
    "%%time\n",
    "ab_model.fit(X_train,y_train)"
   ]
  },
  {
   "cell_type": "code",
   "execution_count": 20,
   "id": "aa75aa79",
   "metadata": {},
   "outputs": [
    {
     "name": "stdout",
     "output_type": "stream",
     "text": [
      "Wall time: 5.47 s\n"
     ]
    },
    {
     "data": {
      "text/plain": [
       "GradientBoostingRegressor()"
      ]
     },
     "execution_count": 20,
     "metadata": {},
     "output_type": "execute_result"
    }
   ],
   "source": [
    "%%time\n",
    "gb_model.fit(X_train,y_train)"
   ]
  },
  {
   "cell_type": "code",
   "execution_count": 21,
   "id": "8ca1660f",
   "metadata": {},
   "outputs": [
    {
     "data": {
      "text/html": [
       "<div>\n",
       "<style scoped>\n",
       "    .dataframe tbody tr th:only-of-type {\n",
       "        vertical-align: middle;\n",
       "    }\n",
       "\n",
       "    .dataframe tbody tr th {\n",
       "        vertical-align: top;\n",
       "    }\n",
       "\n",
       "    .dataframe thead th {\n",
       "        text-align: right;\n",
       "    }\n",
       "</style>\n",
       "<table border=\"1\" class=\"dataframe\">\n",
       "  <thead>\n",
       "    <tr style=\"text-align: right;\">\n",
       "      <th></th>\n",
       "      <th>AB</th>\n",
       "      <th>GB</th>\n",
       "    </tr>\n",
       "  </thead>\n",
       "  <tbody>\n",
       "    <tr>\n",
       "      <th>Without Repeat (ms)</th>\n",
       "      <td>89.1</td>\n",
       "      <td>234.0</td>\n",
       "    </tr>\n",
       "    <tr>\n",
       "      <th>With Repeat (s)</th>\n",
       "      <td>7.6</td>\n",
       "      <td>30.5</td>\n",
       "    </tr>\n",
       "  </tbody>\n",
       "</table>\n",
       "</div>"
      ],
      "text/plain": [
       "                       AB     GB\n",
       "Without Repeat (ms)  89.1  234.0\n",
       "With Repeat (s)       7.6   30.5"
      ]
     },
     "execution_count": 21,
     "metadata": {},
     "output_type": "execute_result"
    }
   ],
   "source": [
    "#Processing time with Jupyter ipynb. using CPU\n",
    "condition=('Without Repeat (ms)', 'With Repeat (s)')\n",
    "pd.DataFrame({'AB':[89.1,7.6],\n",
    "             'GB':[234,30.5]},index=condition)"
   ]
  }
 ],
 "metadata": {
  "kernelspec": {
   "display_name": "Python 3",
   "language": "python",
   "name": "python3"
  },
  "language_info": {
   "codemirror_mode": {
    "name": "ipython",
    "version": 3
   },
   "file_extension": ".py",
   "mimetype": "text/x-python",
   "name": "python",
   "nbconvert_exporter": "python",
   "pygments_lexer": "ipython3",
   "version": "3.8.8"
  }
 },
 "nbformat": 4,
 "nbformat_minor": 5
}
